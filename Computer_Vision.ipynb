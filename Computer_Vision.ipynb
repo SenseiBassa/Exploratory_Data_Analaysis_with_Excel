{
  "nbformat": 4,
  "nbformat_minor": 0,
  "metadata": {
    "colab": {
      "provenance": [],
      "authorship_tag": "ABX9TyOgKVG+Gcqox+EXaS+M35VU",
      "include_colab_link": true
    },
    "kernelspec": {
      "name": "python3",
      "display_name": "Python 3"
    },
    "language_info": {
      "name": "python"
    }
  },
  "cells": [
    {
      "cell_type": "markdown",
      "metadata": {
        "id": "view-in-github",
        "colab_type": "text"
      },
      "source": [
        "<a href=\"https://colab.research.google.com/github/SenseiBassa/Exploratory_Data_Analaysis_with_Excel/blob/main/Computer_Vision.ipynb\" target=\"_parent\"><img src=\"https://colab.research.google.com/assets/colab-badge.svg\" alt=\"Open In Colab\"/></a>"
      ]
    },
    {
      "cell_type": "markdown",
      "source": [
        "# Computer Vision"
      ],
      "metadata": {
        "id": "mr2PMGkHpoX4"
      }
    },
    {
      "cell_type": "code",
      "execution_count": 1,
      "metadata": {
        "colab": {
          "base_uri": "https://localhost:8080/"
        },
        "id": "zz0JjUGxpdTB",
        "outputId": "fbbe26a2-30b0-4e3d-f467-90e8523288f2"
      },
      "outputs": [
        {
          "output_type": "stream",
          "name": "stdout",
          "text": [
            "Looking in indexes: https://pypi.org/simple, https://us-python.pkg.dev/colab-wheels/public/simple/\n",
            "Requirement already satisfied: opencv-python in /usr/local/lib/python3.10/dist-packages (4.7.0.72)\n",
            "Requirement already satisfied: numpy>=1.21.2 in /usr/local/lib/python3.10/dist-packages (from opencv-python) (1.22.4)\n"
          ]
        }
      ],
      "source": [
        "# install open-cv\n",
        "!pip install  opencv-python"
      ]
    },
    {
      "cell_type": "code",
      "source": [
        "# Import OpenCV\n",
        "import cv2"
      ],
      "metadata": {
        "id": "HCD24mHOpj_z"
      },
      "execution_count": 2,
      "outputs": []
    },
    {
      "cell_type": "markdown",
      "source": [
        "# Face Detection"
      ],
      "metadata": {
        "id": "NWO54diT-FrZ"
      }
    },
    {
      "cell_type": "code",
      "source": [
        "# Leverage Haar-cascade classifiers\n",
        "\n",
        "face_cascade = cv2.CascadeClassifier(cv2.data.haarcascades + \"haarcascade_frontalface_default.xml\")\n"
      ],
      "metadata": {
        "id": "Awi82QI4pkFa"
      },
      "execution_count": 3,
      "outputs": []
    },
    {
      "cell_type": "code",
      "source": [
        "# Create a function that will detect the face \n",
        "\n",
        "def detect(gray, frame):\n",
        "    face = face_cascade.detectMultiScale(gray, 1.3, 5)\n",
        "    for (x, y, w, h) in face:\n",
        "        cv2.rectangle(frame, (x,y), (x+w, y+h), (255,0,0), 3)\n",
        "        roi_gray = gray[y:y+h, x:x+w]\n",
        "        roi_color = frame[y:y+h, x:x+w]\n",
        "    return frame"
      ],
      "metadata": {
        "id": "G8nNga6ApkLe"
      },
      "execution_count": 4,
      "outputs": []
    },
    {
      "cell_type": "code",
      "source": [
        "capture = cv2.VideoCapture() # 0 - Local Webcam ad 1 - External Webcam\n",
        "\n",
        "while True:\n",
        "    _, frame = capture.read()\n",
        "    gray = cv2.cvtColor(frame, cv2.COLOR_BGR2GRAY)\n",
        "    canvas = detect(gray, frame)\n",
        "    cv2.imshow(\"Video\", canvas)\n",
        "    if cv2.waitKey(1) & 0xff == ord(\"q\"):\n",
        "        break\n",
        "capture.release()\n",
        "cv2.destroyAllWindows()"
      ],
      "metadata": {
        "id": "5OGMz6p0pkQQ"
      },
      "execution_count": null,
      "outputs": []
    },
    {
      "cell_type": "markdown",
      "source": [
        "# Working with other pictures"
      ],
      "metadata": {
        "id": "J8eSCnnczupu"
      }
    },
    {
      "cell_type": "code",
      "source": [
        "# Leverage Haar-cascade classifiers\n",
        "\n",
        "face_cascade = cv2.CascadeClassifier(cv2.data.haarcascades + \"haarcascade_frontalface_default.xml\")\n"
      ],
      "metadata": {
        "id": "NBvKQ12Ypkmi"
      },
      "execution_count": 21,
      "outputs": []
    },
    {
      "cell_type": "code",
      "source": [
        "# Create a function that will detect the face \n",
        "\n",
        "def detect(gray, frame):\n",
        "    face = face_cascade.detectMultiScale(gray, 1.3, 5)\n",
        "    for (x, y, w, h) in face:\n",
        "        cv2.rectangle(frame, (x,y), (x+w, y+h), (0,100,200), 3)\n",
        "        roi_gray = gray[y:y+h, x:x+w]\n",
        "        roi_color = frame[y:y+h, x:x+w]\n",
        "    return frame"
      ],
      "metadata": {
        "id": "L3Ayhvcgpksm"
      },
      "execution_count": 9,
      "outputs": []
    },
    {
      "cell_type": "code",
      "source": [
        "# 0 - Local Webcam and 1 - External Webcam\n",
        "\n",
        "capture = cv2.VideoCapture(r\"/path/to/video.mp4\")  # Replace \"/path/to/video.mp4\" with the actual path to your video file\n",
        "\n",
        "while True:\n",
        "    ret, frame = capture.read()\n",
        "    if not ret:\n",
        "        break\n",
        "    gray = cv2.cvtColor(frame, cv2.COLOR_BGR2GRAY)\n",
        "    canvas = detect(gray, frame)\n",
        "    cv2.imshow(\"Video\", canvas)\n",
        "    if cv2.waitKey(1) & 0xFF == ord(\"q\"):\n",
        "        break\n",
        "\n",
        "capture.release()\n",
        "cv2.destroyAllWindows()\n"
      ],
      "metadata": {
        "id": "LnAgcdOwpky1"
      },
      "execution_count": 11,
      "outputs": []
    },
    {
      "cell_type": "markdown",
      "source": [
        "# Eyes Detection"
      ],
      "metadata": {
        "id": "pXcYogl35bJN"
      }
    },
    {
      "cell_type": "code",
      "source": [
        "# Leverage Haar-cascade classifiers\n",
        "\n",
        "face_cascade = cv2.CascadeClassifier(cv2.data.haarcascades + \"haarcascade_frontalface_default.xml\")\n",
        "eye_cascade = cv2.CascadeClassifier(cv2.data.haarcascades + \"haarcascade_eye.xml\")"
      ],
      "metadata": {
        "id": "M3vi4UcFplAP"
      },
      "execution_count": 22,
      "outputs": []
    },
    {
      "cell_type": "code",
      "source": [
        "# Create a function that will detect the face \n",
        "\n",
        "def detect(gray, frame):\n",
        "    face = face_cascade.detectMultiScale(gray, 1.3, 5)\n",
        "    for (x, y, w, h) in face:\n",
        "        cv2.rectangle(frame, (x,y), (x+w, y+h), (0,100,200), 3)\n",
        "        roi_gray = gray[y:y+h, x:x+w]\n",
        "        roi_color = frame[y:y+h, x:x+w]\n",
        "\n",
        "        # eyes detection\n",
        "        eyes = eye_cascade.detectMultiScale(gray, 1.3, 5)\n",
        "        for (ex, ey, ew, eh) in eyes:\n",
        "             cv2.rectangle(frame, (ex,ey), (ex+ew, ey+eh), (100,255,200), 3)\n",
        "\n",
        "    return frame"
      ],
      "metadata": {
        "id": "1M4LsMvCplHR"
      },
      "execution_count": 23,
      "outputs": []
    },
    {
      "cell_type": "code",
      "source": [
        "# 0 - Local Webcam and 1 - External Webcam\n",
        "\n",
        "capture = cv2.VideoCapture(r\"content/IMG_20210205_005245.jpg\")\n",
        "\n",
        "while True:\n",
        "    ret, frame = capture.read()\n",
        "    if not ret:\n",
        "        break\n",
        "    gray = cv2.cvtColor(frame, cv2.COLOR_BGR2GRAY)\n",
        "    canvas = detect(gray, frame)\n",
        "    cv2.imshow(\"Video\", canvas)\n",
        "    if cv2.waitKey(1) & 0xFF == ord(\"q\"):\n",
        "        break\n",
        "\n",
        "capture.release()\n",
        "cv2.destroyAllWindows()\n"
      ],
      "metadata": {
        "id": "0mpwrdQzplRC"
      },
      "execution_count": 24,
      "outputs": []
    },
    {
      "cell_type": "markdown",
      "source": [
        "# Smile Detection"
      ],
      "metadata": {
        "id": "CMNqNeZT950k"
      }
    },
    {
      "cell_type": "code",
      "source": [
        "# Leverage Haar-cascade classifiers\n",
        "\n",
        "face_cascade = cv2.CascadeClassifier(cv2.data.haarcascades + \"haarcascade_frontalface_default.xml\")\n",
        "eye_cascade = cv2.CascadeClassifier(cv2.data.haarcascades + \"haarcascade_eye.xml\")\n",
        "smile_cascade = cv2.CascadeClassifier(cv2.data.haarcascades +\"haarcascade_smile.xml\")"
      ],
      "metadata": {
        "id": "WRESfOsepld6"
      },
      "execution_count": 25,
      "outputs": []
    },
    {
      "cell_type": "code",
      "source": [
        "# Create a function that will detect the face \n",
        "\n",
        "def detect(gray, frame):\n",
        "    # face detection\n",
        "    face = face_cascade.detectMultiScale(gray, 1.3, 5)\n",
        "    for (x, y, w, h) in face:\n",
        "        cv2.rectangle(frame, (x,y), (x+w, y+h), (0,100,200), 3)\n",
        "        roi_gray = gray[y:y+h, x:x+w]\n",
        "        roi_color = frame[y:y+h, x:x+w]\n",
        "\n",
        "        # Eyes detection\n",
        "        eyes = eye_cascade.detectMultiScale(gray, 1.3, 5)\n",
        "        for (ex, ey, ew, eh) in eyes:\n",
        "             cv2.rectangle(frame, (ex,ey), (ex+ew, ey+eh), (100,255,200), 3)\n",
        "\n",
        "        # Smile detection\n",
        "        smile = smile_cascade.detectMultiScale(gray, 1.7, 20)\n",
        "        for (sx, sy, sw, sh) in smile:\n",
        "             cv2.rectangle(frame, (sx,sy), (sx+sw, sy+sh), (0,200,10), 3)\n",
        "\n",
        "    return frame"
      ],
      "metadata": {
        "id": "U4ziXG7Dplk_"
      },
      "execution_count": 26,
      "outputs": []
    },
    {
      "cell_type": "code",
      "source": [
        "# 0 - Local Webcam and 1 - External Webcam\n",
        "\n",
        "capture = cv2.VideoCapture(r\"content/IMG_20210205_005245.jpg\")\n",
        "\n",
        "while True:\n",
        "    ret, frame = capture.read()\n",
        "    if not ret:\n",
        "        break\n",
        "    gray = cv2.cvtColor(frame, cv2.COLOR_BGR2GRAY)\n",
        "    canvas = detect(gray, frame)\n",
        "    cv2.imshow(\"Video\", canvas)\n",
        "    if cv2.waitKey(1) & 0xFF == ord(\"q\"):\n",
        "        break\n",
        "\n",
        "capture.release()\n",
        "cv2.destroyAllWindows()\n"
      ],
      "metadata": {
        "id": "EQc0hb0Uplqk"
      },
      "execution_count": 27,
      "outputs": []
    },
    {
      "cell_type": "code",
      "source": [],
      "metadata": {
        "id": "6ec_HGJsplvK"
      },
      "execution_count": null,
      "outputs": []
    },
    {
      "cell_type": "code",
      "source": [],
      "metadata": {
        "id": "z46HDqoxplzG"
      },
      "execution_count": null,
      "outputs": []
    },
    {
      "cell_type": "code",
      "source": [],
      "metadata": {
        "id": "DGX679SBpl3W"
      },
      "execution_count": null,
      "outputs": []
    },
    {
      "cell_type": "code",
      "source": [],
      "metadata": {
        "id": "3_6nS5_8pl74"
      },
      "execution_count": null,
      "outputs": []
    },
    {
      "cell_type": "code",
      "source": [],
      "metadata": {
        "id": "JU46UY_-pmAm"
      },
      "execution_count": null,
      "outputs": []
    },
    {
      "cell_type": "code",
      "source": [],
      "metadata": {
        "id": "jb_1AraspmFW"
      },
      "execution_count": null,
      "outputs": []
    },
    {
      "cell_type": "code",
      "source": [],
      "metadata": {
        "id": "DP8aWry7pmKI"
      },
      "execution_count": null,
      "outputs": []
    },
    {
      "cell_type": "code",
      "source": [],
      "metadata": {
        "id": "fY1c66lXpmOp"
      },
      "execution_count": null,
      "outputs": []
    },
    {
      "cell_type": "code",
      "source": [],
      "metadata": {
        "id": "DIH3OaGEpmTS"
      },
      "execution_count": null,
      "outputs": []
    },
    {
      "cell_type": "code",
      "source": [],
      "metadata": {
        "id": "0RgPL36KpmaH"
      },
      "execution_count": null,
      "outputs": []
    },
    {
      "cell_type": "code",
      "source": [],
      "metadata": {
        "id": "cbkX12NapmfI"
      },
      "execution_count": null,
      "outputs": []
    },
    {
      "cell_type": "code",
      "source": [],
      "metadata": {
        "id": "rS0LUeadpmj0"
      },
      "execution_count": null,
      "outputs": []
    },
    {
      "cell_type": "code",
      "source": [],
      "metadata": {
        "id": "6Vmf1h8UpmoI"
      },
      "execution_count": null,
      "outputs": []
    },
    {
      "cell_type": "code",
      "source": [],
      "metadata": {
        "id": "yKuDCZXvpmtJ"
      },
      "execution_count": null,
      "outputs": []
    },
    {
      "cell_type": "code",
      "source": [],
      "metadata": {
        "id": "NHqjkTxCpmyR"
      },
      "execution_count": null,
      "outputs": []
    },
    {
      "cell_type": "code",
      "source": [],
      "metadata": {
        "id": "UNK-3PqBpm2y"
      },
      "execution_count": null,
      "outputs": []
    }
  ]
}